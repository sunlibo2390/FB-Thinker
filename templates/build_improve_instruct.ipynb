{
 "cells": [
  {
   "cell_type": "code",
   "execution_count": 14,
   "metadata": {},
   "outputs": [
    {
     "data": {
      "text/plain": [
       "['text',\n",
       " 'summary',\n",
       " 'factual_prob',\n",
       " 'factual_label',\n",
       " 'compre_prob',\n",
       " 'compre_label',\n",
       " 'relate_prob',\n",
       " 'relate_label',\n",
       " 'truth_summary',\n",
       " 'name']"
      ]
     },
     "execution_count": 14,
     "metadata": {},
     "output_type": "execute_result"
    }
   ],
   "source": [
    "import os\n",
    "import json\n",
    "\n",
    "with open(\"/root/code_summary/templates/improve_instruction_set.json\",'r') as f:\n",
    "    improve_instruct_tuning = json.load(f)\n",
    "list(improve_instruct_tuning[0].keys())"
   ]
  },
  {
   "cell_type": "code",
   "execution_count": 13,
   "metadata": {},
   "outputs": [],
   "source": [
    "with open(\"/root/code_summary/templates/text2name.json\",'r') as f:\n",
    "    text2name = json.load(f)\n",
    "\n",
    "for item in improve_instruct_tuning:\n",
    "    item['name'] = text2name[item['text']]\n",
    "with open(\"/root/code_summary/data/improve_instruction_set.json\",'w',encoding='utf-8') as f:\n",
    "    json.dump(improve_instruct_tuning, f, ensure_ascii=False)"
   ]
  },
  {
   "cell_type": "code",
   "execution_count": 22,
   "metadata": {},
   "outputs": [],
   "source": [
    "soft_template = \"\"\"输入中包含关于{name}的相关文本，以及根据该文本内容对{name}的优缺点总结归纳。该归纳可能包含一些错误，在事实准确性方面的错误概率为{prob0:.2f}%，在角度全面性方面的错误概率为{prob1:.2f}%，在内容相关性方面的错误概率为{prob2:.2f}%。其中，事实准确性表示归纳中不含有原文中未出现信息、对原文中所含角度极性判断正确、优缺点分类正确；角度全面性表示归纳中不缺少原文中提到的角度信息、保证兼顾优点和缺点；相关性表示归纳中仅包括{name}的相关信息，不包括其他无关信息。请根据以上信息，对输入归纳进行改进，输出改进后的归纳。\n",
    "## 输入\n",
    "文本：{text}\n",
    "归纳：{summary}\n",
    "## 输出\n",
    "改进后归纳：{truth_summary}\"\"\""
   ]
  },
  {
   "cell_type": "code",
   "execution_count": 24,
   "metadata": {},
   "outputs": [
    {
     "name": "stdout",
     "output_type": "stream",
     "text": [
      "输入中包含关于宝马M4的相关文本，以及根据该文本内容对宝马M4的优缺点总结归纳。该归纳可能包含一些错误，在事实准确性方面的错误概率为99.96%，在角度全面性方面的错误概率为0.01%，在内容相关性方面的错误概率为0.15%。其中，事实准确性表示归纳中不含有原文中未出现信息、对原文中所含角度极性判断正确、优缺点分类正确；角度全面性表示归纳中不缺少原文中提到的角度信息、保证兼顾优点和缺点；相关性表示归纳中仅包括宝马M4的相关信息，不包括其他无关信息。请根据以上信息，对输入归纳进行改进，输出改进后的归纳。\n",
      "## 输入\n",
      "文本：年后工作想买人生中第一辆车 选m4还是amgglc63coupe？m4很好但是我还是馋63的v8发动机和苹果树 求建议！|||没有购房压力的话，就看你能掏多少首付了。m4 落地小110吧。建议首付70以上，贷款车在4s办，去银行做个30万的消费贷。然后每月还息，到期还本，一个月还款压力几乎没有，年入30随便买。男人先取悦自己，然后才能取悦别人，我要是有你这收入也买m4了|||有全款的能力可以买，贷款就算了吧，30多的年薪如果是税前，那你基本每个月就为这个车活着。|||对，这东西还多问几家，3-4月的确是有配额，而且也别听4s说，选装越多车越快，压根没关系，那是人家德国宝马生产周期排产问题，选装越多只会销售越高兴\n",
      "归纳：宝马M4的优点包括动力好和销售策略良好，选装越多只会销售越高兴，但缺点是购车带来的压力较大。\n",
      "## 输出\n",
      "改进后归纳：宝马M4的优点包括车辆选择多好、有馋63的v8发动机、可以全额购买。缺点包括贷款车压力大、销售策略不符实际情况。\n"
     ]
    }
   ],
   "source": [
    "with open(\"/root/code_summary/templates/soft_template.txt\",'r') as f:\n",
    "    soft_template = f.read()\n",
    "soft_prompt = soft_template.format(\n",
    "    text=text, summary=summary, truth_summary=truth_summary, name=name, prob0=prob0*100, prob1=prob1*100, prob2=prob2*100,\n",
    ")\n",
    "    \n",
    "print(soft_prompt)"
   ]
  },
  {
   "cell_type": "code",
   "execution_count": 23,
   "metadata": {},
   "outputs": [
    {
     "name": "stdout",
     "output_type": "stream",
     "text": [
      "输入中包含关于宝马M4的相关文本，以及根据该文本内容对宝马M4的优缺点总结归纳。该归纳可能包含一些错误，在事实准确性方面的错误概率为99.96%，在角度全面性方面的错误概率为0.01%，在内容相关性方面的错误概率为0.15%。其中，事实准确性表示归纳中不含有原文中未出现信息、对原文中所含角度极性判断正确、优缺点分类正确；角度全面性表示归纳中不缺少原文中提到的角度信息、保证兼顾优点和缺点；相关性表示归纳中仅包括宝马M4的相关信息，不包括其他无关信息。请根据以上信息，对输入归纳进行改进，输出改进后的归纳。\n",
      "## 输入\n",
      "文本：年后工作想买人生中第一辆车 选m4还是amgglc63coupe？m4很好但是我还是馋63的v8发动机和苹果树 求建议！|||没有购房压力的话，就看你能掏多少首付了。m4 落地小110吧。建议首付70以上，贷款车在4s办，去银行做个30万的消费贷。然后每月还息，到期还本，一个月还款压力几乎没有，年入30随便买。男人先取悦自己，然后才能取悦别人，我要是有你这收入也买m4了|||有全款的能力可以买，贷款就算了吧，30多的年薪如果是税前，那你基本每个月就为这个车活着。|||对，这东西还多问几家，3-4月的确是有配额，而且也别听4s说，选装越多车越快，压根没关系，那是人家德国宝马生产周期排产问题，选装越多只会销售越高兴\n",
      "归纳：宝马M4的优点包括动力好和销售策略良好，选装越多只会销售越高兴，但缺点是购车带来的压力较大。\n",
      "## 输出\n",
      "改进后归纳：宝马M4的优点包括车辆选择多好、有馋63的v8发动机、可以全额购买。缺点包括贷款车压力大、销售策略不符实际情况。\n"
     ]
    }
   ],
   "source": [
    "for item in improve_instruct_tuning:\n",
    "    text = item['text']\n",
    "    summary = item['summary']\n",
    "    truth_summary = item['truth_summary']\n",
    "    name = item['name']\n",
    "    prob0 = item['factual_prob']\n",
    "    prob1 = item['compre_prob']\n",
    "    prob2 = item['relate_prob']\n",
    "\n",
    "    soft_prompt = soft_template.format(\n",
    "        text=text, summary=summary, truth_summary=truth_summary, name=name, prob0=prob0*100, prob1=prob1*100, prob2=prob2*100,\n",
    "    )\n",
    "    break\n",
    "print(soft_prompt)"
   ]
  },
  {
   "cell_type": "code",
   "execution_count": null,
   "metadata": {},
   "outputs": [],
   "source": []
  },
  {
   "cell_type": "code",
   "execution_count": null,
   "metadata": {},
   "outputs": [],
   "source": []
  }
 ],
 "metadata": {
  "kernelspec": {
   "display_name": "base",
   "language": "python",
   "name": "python3"
  },
  "language_info": {
   "codemirror_mode": {
    "name": "ipython",
    "version": 3
   },
   "file_extension": ".py",
   "mimetype": "text/x-python",
   "name": "python",
   "nbconvert_exporter": "python",
   "pygments_lexer": "ipython3",
   "version": "3.8.5"
  },
  "orig_nbformat": 4
 },
 "nbformat": 4,
 "nbformat_minor": 2
}
